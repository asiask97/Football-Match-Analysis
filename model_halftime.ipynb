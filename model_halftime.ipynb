{
 "cells": [
  {
   "cell_type": "code",
   "execution_count": null,
   "id": "f8d115f9-2ccd-4f52-85bd-6a454504f8a3",
   "metadata": {},
   "outputs": [],
   "source": [
    "import csv\n",
    "import pandas as pd\n",
    "import tensorflow as tf\n",
    "import numpy as np\n",
    "from sklearn.preprocessing import LabelEncoder"
   ]
  },
  {
   "cell_type": "code",
   "execution_count": null,
   "id": "1006180d-46c4-4d78-ad6e-d6b2b3f000eb",
   "metadata": {},
   "outputs": [],
   "source": [
    "data = pd.read_csv('C:/Users/Asia/Project/test1.csv') \n",
    "\n",
    "X = data.iloc[:, 2:-2].values\n",
    "print(X[1])\n",
    "y = data.iloc[:, -1].values\n",
    "print(y[1])\n",
    "le = LabelEncoder()\n",
    "y = le.fit_transform(y)\n",
    "\n",
    "#win = 2 #lose = 1 #draw = 0"
   ]
  },
  {
   "cell_type": "code",
   "execution_count": null,
   "id": "9b6cac4c-c0b2-4a68-82ca-9a6577887d86",
   "metadata": {},
   "outputs": [],
   "source": [
    "from sklearn.model_selection import train_test_split\n",
    "X_train, X_test, y_train, y_test = train_test_split(X, y, test_size=0.1)\n",
    "print(X_train.shape, X_test.shape, y_train.shape, y_test.shape)"
   ]
  },
  {
   "cell_type": "code",
   "execution_count": null,
   "id": "a03e7f78-daca-43c8-b795-648a1da71841",
   "metadata": {},
   "outputs": [],
   "source": [
    "from sklearn.preprocessing import StandardScaler\n",
    "sc = StandardScaler()\n",
    "X_train = sc.fit_transform(X_train)\n",
    "X_test = sc.transform(X_test)\n",
    "\n",
    "print(y_train)"
   ]
  },
  {
   "cell_type": "code",
   "execution_count": null,
   "id": "f0e682a7-8849-4b2e-aea1-56235ba07f89",
   "metadata": {},
   "outputs": [],
   "source": [
    "model = tf.keras.models.Sequential()\n",
    "\n",
    "#layer one\n",
    "model.add(tf.keras.layers.Dense(128, activation = tf.nn.relu))\n",
    "#layer two\n",
    "model.add(tf.keras.layers.Dense(128, activation = tf.nn.relu))\n",
    "#layer three\n",
    "model.add(tf.keras.layers.Dense(128, activation = tf.nn.relu))\n",
    "#output layer\n",
    "model.add(tf.keras.layers.Dense(3, activation = tf.nn.sigmoid))\n",
    "\n",
    "#traning of the model\n",
    "model.compile(optimizer = 'adam',\n",
    "              loss='sparse_categorical_crossentropy',\n",
    "              metrics=[\"accuracy\"])\n",
    "\n",
    "model.fit(X_train, y_train, epochs=100)\n"
   ]
  },
  {
   "cell_type": "code",
   "execution_count": null,
   "id": "d7654114-fd8d-4d69-a16d-af912dd02a05",
   "metadata": {},
   "outputs": [],
   "source": [
    "val_loss, val_acc = model.evaluate(X_test, y_test)\n",
    "print(val_loss, val_acc)"
   ]
  },
  {
   "cell_type": "code",
   "execution_count": null,
   "id": "da1c1c6c-5358-42b6-8c76-dfdb701d2f41",
   "metadata": {},
   "outputs": [],
   "source": [
    "### checking against data collected \n",
    "x = 0\n",
    "correct = 0\n",
    "wrong = 0\n",
    "matches = 0\n",
    "draw = 0\n",
    "while x < len(X):\n",
    "    #take the data for two teams\n",
    "    home = []\n",
    "    away = []\n",
    "    home.append(X[x])\n",
    "    away.append(X[x+1])\n",
    "   \n",
    "    #get the difference of win prediction \n",
    "    home_predict = model.predict(sc.transform(home))\n",
    "    away_predict = model.predict(sc.transform(away))\n",
    "    chance = home_predict[0][2]-away_predict[0][2]\n",
    "    #comapre to actual result \n",
    "    home_win = y[x]\n",
    "    print(chance, home_win )\n",
    "    if chance > 0 and home_win == 2:\n",
    "        correct +=1\n",
    "    elif chance < 0 and home_win == 1:\n",
    "        correct +=1\n",
    "    elif home_win == 0:\n",
    "        draw +=1\n",
    "        correct +=1\n",
    "    else:\n",
    "        wrong +=1\n",
    "   \n",
    "    x += 2\n",
    "    matches +=1\n",
    "    \n",
    "    print(matches, 'out of', len(X)/2)\n",
    "       \n",
    "if chance < 0:\n",
    "    print('home will lose')\n",
    "if chance is > 0:\n",
    "    print('home will win')\n",
    "#win = 2 #lose = 1 #draw = 0"
   ]
  },
  {
   "cell_type": "code",
   "execution_count": null,
   "id": "773f3c48-5054-4c58-9e9e-9d43d6d7a7a4",
   "metadata": {},
   "outputs": [],
   "source": []
  }
 ],
 "metadata": {
  "kernelspec": {
   "display_name": "Python 3",
   "language": "python",
   "name": "python3"
  },
  "language_info": {
   "codemirror_mode": {
    "name": "ipython",
    "version": 3
   },
   "file_extension": ".py",
   "mimetype": "text/x-python",
   "name": "python",
   "nbconvert_exporter": "python",
   "pygments_lexer": "ipython3",
   "version": "3.9.5"
  }
 },
 "nbformat": 4,
 "nbformat_minor": 5
}
